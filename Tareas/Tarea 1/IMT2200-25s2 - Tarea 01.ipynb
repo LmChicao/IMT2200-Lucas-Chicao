{
 "cells": [
  {
   "cell_type": "markdown",
   "id": "a34d140a",
   "metadata": {},
   "source": [
    "IMT 2200 - Introducción a Ciencia de Datos<br>\n",
    "**Pontificia Universidad Católica de Chile**<br>\n",
    "**Instituto de Ingeniería Matemática y Computacional**<br>\n",
    "**Semestre 2025-S2**<br>\n",
    "**Profesor:** Rodrigo A. Carrasco <br>\n",
    "\n",
    "---\n",
    "\n",
    "## Tarea 01 – Cargando y Analizando Datos\n",
    "\n",
    "- **Fecha de Entrega:** martes 26 de agosto de 2025, a las 23:59.\n",
    "- \n",
    "**Formato de entrega:** Notebook ejecutado y comentado (`.ipynb`) en l emódulo de Tara 01 habilitado en Canvas.\n",
    "\n",
    "\n"
   ]
  },
  {
   "cell_type": "markdown",
   "id": "b6928ed9-0a2b-4588-8282-b3f3e5e24a8c",
   "metadata": {},
   "source": [
    "## Instrucciones\n",
    "\n",
    "- Esta Tarea debe desarrollarse de manera totalmente *individual*, de acuerdo a lo establecido en la sección de Integridad Académica en el programa del curso.\n",
    "- La Tarea debe ser desarrollada en lenguaje de programación Python y la entrega en formato Jupyter Notebook.\n",
    "- El desarrollo del Notebook debe ser claro y ordenado, incluyendo anotaciones (markdown) y comentarios que permitan seguir fácilmente el código y los pasos implementados a los correctores, y siguiendo buenas prácticas de programación. La presentación y claridad del notebook y código forman parte de la evaluación de la tarea.\n",
    "- Notebook **autocontenible** que:\n",
    "   - Ejecute sin errores todas las celdas.\n",
    "  - Contenga tanto el código como los comentarios y explicaciones necesarias.\n",
    "  - Incluya visualizaciones claras y correctamente etiquetadas.\n",
    "- No se aceptarán notebooks con celdas rotas o que dependan de rutas externas no indicadas en la tara.\n",
    "\n",
    "- Deben hacer sus consultas y comentarios sobre la Tarea a traves del canal de Tareas en eo del curso en Canvas.os.\n",
    "cteriza."
   ]
  },
  {
   "cell_type": "markdown",
   "id": "35a88d5e-b718-4b8e-81c8-dc169d02e88e",
   "metadata": {},
   "source": [
    "## 1. Objetivos\n",
    "\n",
    "- Aplicar los conceptos iniciales de manejo de datos y análisis exploratorio vistos en clases.\n",
    "- Practicar la lectura, limpieza y manipulación de datos en Python.\n",
    "- Desarrollar habilidades para visualizar y describir patrones y tendencias en conjuntos de datos reales.\n",
    "- Fomentar la capacidad de comunicar resultados de forma clara y fundamentada.\n",
    "\n",
    "### 1.1 Objetivo educacional\n",
    "\n",
    "Esta Tarea tiene como objetivo que los estudiantes desarrollen la capacidad de manejar algunas de las librerías centrales para el desarrollo de Ciencia de Datos, con foco en la lectura y exploración de datos. \n",
    "\n",
    "Para los ejercicios a continuación, usted deberá leer, inspeccionar, manipular y graficar conjuntos de datos en distintos formatos, de manera de responder las preguntas de cada parte de la Tarea.\n",
    "\n",
    "### 1.2 Pregunta de ciencia de datos\n",
    "\n",
    "Para esta tarea, tendremos como objetivo comprender cómo han cambiado los juegos de mesa en los últimos 40 años. Específicamente queremos saber qué tipos de juegos se han vuelto más comunes hoy en día y qué los caracteriza.\n",
    "\n",
    "### 1.3 Recomendaciones\n",
    "- Utiliza las librerías sugeridas en el notebook o justifica brevemente si incorporas otras.\n",
    "- Revisa que todas las celdas se ejecuten en orden, desde el inicio, sin errores.\n",
    "- Comenta tu código para explicar qué hace cada sección relevante.\n",
    "- Asegúrate de que las visualizaciones sean fáciles de interpretar y tengan títulos y etiquetas adecuados."
   ]
  },
  {
   "cell_type": "markdown",
   "id": "116596ef",
   "metadata": {},
   "source": [
    "## 2. Datos\n",
    "\n",
    "Estaremos utilizando información extraída desde [BoardGameGeek.com](https://boardgamegeek.com/), una plataforma para aficionados de los juegos de mesa, que permite a sus usuarios registrar, calificar e intercambiar sus juegos favoritos. Actualmente, BGG es una de las bases de datos más extensa y diversa de juegos de mesa.\n",
    "\n",
    "El dataset con el que trabajaremos consiste en un grupo de archivos CSV que contienen información sobre más de 100.000 juegos de mesa almacenados en la plataforma. Este puede descargarse directamente desde el siguiente enlace: https://www.kaggle.com/datasets/mshepherd/board-games Para descargar los datos, haga click en el botón de **Download**, donde podrá descargar los archivos como `.zip`, o bien utilizar la API de Kaggle.\n",
    "\n",
    "Para el desarrollo de esta tarea, solo utilizaremos los archivos con el prefijo `bgg_`.\n",
    "\n",
    "**Si utiliza la API de Kaggle para descargar los datos, deje el código utilizado en la siguiente celda:**"
   ]
  },
  {
   "cell_type": "code",
   "execution_count": 9,
   "id": "3499fd7e",
   "metadata": {},
   "outputs": [
    {
     "name": "stdout",
     "output_type": "stream",
     "text": [
      "Path to dataset files: C:\\Users\\lchicao\\.cache\\kagglehub\\datasets\\mshepherd\\board-games\\versions\\13\n"
     ]
    }
   ],
   "source": [
    "# Descarga de datos desde Kaggle\n",
    "import kagglehub\n",
    "\n",
    "# Download latest version\n",
    "path = kagglehub.dataset_download(\"mshepherd/board-games\")\n",
    "\n",
    "print(\"Path to dataset files:\", path)"
   ]
  },
  {
   "cell_type": "markdown",
   "id": "7fefd4e8",
   "metadata": {},
   "source": [
    "#Busque donde se me descargo e hice copy-paste a una carpeta llamada data dentro de la carpeta que contiene este repositorio"
   ]
  },
  {
   "cell_type": "markdown",
   "id": "c32f6e52",
   "metadata": {},
   "source": [
    "### 2.1 Librerías\n",
    "\n",
    "Para esta tarea recomendamos al menos usar las librerías indicadas en la siguiente celda del Notebook. Puede agregar otras si lo estima conveniente para responder de mejor forma las preguntas de la Tarea."
   ]
  },
  {
   "cell_type": "code",
   "execution_count": 2,
   "id": "87be9d83",
   "metadata": {},
   "outputs": [],
   "source": [
    "import numpy as np\n",
    "import pandas as pd\n",
    "import matplotlib.pyplot as plt"
   ]
  },
  {
   "cell_type": "markdown",
   "id": "49c9c1e7",
   "metadata": {},
   "source": [
    "## 3. Desarrollo\n",
    "\n",
    "Para cada una de las siguientes preguntas o actividades incluya una o más celdas de código y Markdown con las respuestas o comentarios necesarios para contestar la pregunta o lograr la actividad. Agregue sus celdas a continuación de cada pregunta para que el Notebook quede ordenado.\n",
    "\n",
    "En el caso de gráficos, figuras o tablas, asegúrese que todas tengan título, etiquetas en los ejes o haya claridad de los contenidos."
   ]
  },
  {
   "cell_type": "markdown",
   "id": "dfc274ca",
   "metadata": {},
   "source": [
    "### 3.1 DataFrame unificado (1 punto)\n",
    "\n",
    "Vamos a cargar en un DataFrame los datos de juegos guardados en el documento `bgg_GameItem.csv`. Al inspeccionar nuestros datos, podemos notar que los valores de ciertas comunas vienen \"codificados\" con ID. Para comenzar, vamos a juntar la información de los distintos archivos descargados.\n",
    "\n",
    "**a) (0.8 pts)** Genere un DataFrame único con toda la información de cada juego, incluyendo: nombres de artistas y diseñadores involucrados, mecánicas, categorías, tipo, familia y editorial. Guarde este DataFrame en un nuevo archivo CSV."
   ]
  },
  {
   "cell_type": "markdown",
   "id": "7df1f8c5",
   "metadata": {},
   "source": [
    "Primero voy a localizarme en el archivo xd"
   ]
  },
  {
   "cell_type": "code",
   "execution_count": 3,
   "id": "304ce6ea",
   "metadata": {},
   "outputs": [
    {
     "data": {
      "text/plain": [
       "'c:\\\\GIT HUB DESKO\\\\IMT2200-Lucas-Chicao\\\\Tareas\\\\Tarea 1'"
      ]
     },
     "execution_count": 3,
     "metadata": {},
     "output_type": "execute_result"
    }
   ],
   "source": [
    "%pwd"
   ]
  },
  {
   "cell_type": "code",
   "execution_count": 4,
   "id": "53100b05",
   "metadata": {},
   "outputs": [
    {
     "name": "stdout",
     "output_type": "stream",
     "text": [
      "c:\\GIT HUB DESKO\\IMT2200-Lucas-Chicao\\Tareas\\Tarea 1\\data\\kagglehub\\datasets\\mshepherd\\board-games\\versions\\13\n"
     ]
    }
   ],
   "source": [
    "%cd data\\kagglehub\\datasets\\mshepherd\\board-games\\versions\\13"
   ]
  },
  {
   "cell_type": "code",
   "execution_count": 5,
   "id": "e2e14049",
   "metadata": {},
   "outputs": [
    {
     "data": {
      "text/plain": [
       "'c:\\\\GIT HUB DESKO\\\\IMT2200-Lucas-Chicao\\\\Tareas\\\\Tarea 1\\\\data\\\\kagglehub\\\\datasets\\\\mshepherd\\\\board-games\\\\versions\\\\13'"
      ]
     },
     "execution_count": 5,
     "metadata": {},
     "output_type": "execute_result"
    }
   ],
   "source": [
    "%pwd"
   ]
  },
  {
   "cell_type": "code",
   "execution_count": 6,
   "id": "b2cf21b0",
   "metadata": {},
   "outputs": [
    {
     "name": "stdout",
     "output_type": "stream",
     "text": [
      " Volume in drive C has no label.\n",
      " Volume Serial Number is 9E56-4120\n",
      "\n",
      " Directory of c:\\GIT HUB DESKO\\IMT2200-Lucas-Chicao\\Tareas\\Tarea 1\\data\\kagglehub\\datasets\\mshepherd\\board-games\\versions\\13\n",
      "\n",
      "08/15/2025  04:25 PM    <DIR>          .\n",
      "08/15/2025  04:25 PM    <DIR>          ..\n",
      "08/15/2025  04:24 PM        18,733,436 bga_GameItem.csv\n",
      "08/15/2025  04:24 PM             1,532 bgg_Category.csv\n",
      "08/15/2025  04:24 PM           169,033 bgg_GameFamily.csv\n",
      "08/15/2025  04:24 PM        16,076,821 bgg_GameItem.csv\n",
      "08/15/2025  04:24 PM               218 bgg_GameType.csv\n",
      "08/15/2025  04:24 PM             4,427 bgg_Mechanic.csv\n",
      "08/15/2025  04:24 PM         1,161,855 bgg_Person.csv\n",
      "08/15/2025  04:24 PM           596,420 bgg_Publisher.csv\n",
      "08/15/2025  04:24 PM           586,441 dbpedia_GameItem.csv\n",
      "08/15/2025  04:24 PM         3,452,968 luding_GameItem.csv\n",
      "08/15/2025  04:24 PM           801,632 spielen_GameItem.csv\n",
      "08/15/2025  04:24 PM           542,338 wikidata_GameItem.csv\n",
      "              12 File(s)     42,127,121 bytes\n",
      "               2 Dir(s)  24,132,837,376 bytes free\n"
     ]
    }
   ],
   "source": [
    "%ls"
   ]
  },
  {
   "cell_type": "markdown",
   "id": "a1e40bf8",
   "metadata": {},
   "source": [
    "Disclaimer: Lee esto con el editor, mas facil xd\n",
    "\n",
    "\n",
    "Tengo que ver cuales son los atributos(columnas) que son los que poseen lo que se solicita, exactamente esto:\n",
    "\n",
    "nombres de artistas y diseñadores involucrados, mecánicas, categorías, tipo, familia y editorial.\n",
    "\n",
    "Tomando la primera linea del csv \"bga_GameItem.csv\" obtengo las columnas, las cuales son\n",
    "\n",
    "bgg_id,name,year,game_type,designer,artist,publisher,min_players,max_players,min_players_rec,max_players_rec,min_players_best,max_players_best,min_age,min_age_rec,min_time,max_time,category,mechanic,cooperative,compilation,compilation_of,family,implementation,integration,rank,num_votes,avg_rating,stddev_rating,bayes_rating,complexity,language_dependency,bga_id,dbpedia_id,luding_id,spielen_id,wikidata_id,wikipedia_id\n",
    "\n",
    "de toda esta cosa fea, puedo sacar lo siguiente\n",
    "\n",
    "\n",
    "nombre de artistas -> artist\n",
    "diseñadores -> designer\n",
    "mecanicas -> machanic\n",
    "categorias -> category \n",
    "tipo -> game_type\n",
    "familia -> family (no entiendo mucho este punto, pero loa asocio simplemente pq significan lo mismo xD)\n",
    "editorial -> publisher \n"
   ]
  },
  {
   "cell_type": "code",
   "execution_count": null,
   "id": "12aabf07",
   "metadata": {},
   "outputs": [
    {
     "data": {
      "text/html": [
       "<div>\n",
       "<style scoped>\n",
       "    .dataframe tbody tr th:only-of-type {\n",
       "        vertical-align: middle;\n",
       "    }\n",
       "\n",
       "    .dataframe tbody tr th {\n",
       "        vertical-align: top;\n",
       "    }\n",
       "\n",
       "    .dataframe thead th {\n",
       "        text-align: right;\n",
       "    }\n",
       "</style>\n",
       "<table border=\"1\" class=\"dataframe\">\n",
       "  <thead>\n",
       "    <tr style=\"text-align: right;\">\n",
       "      <th></th>\n",
       "      <th>bgg_id</th>\n",
       "      <th>name</th>\n",
       "      <th>year</th>\n",
       "      <th>game_type</th>\n",
       "      <th>designer</th>\n",
       "      <th>artist</th>\n",
       "      <th>publisher</th>\n",
       "      <th>min_players</th>\n",
       "      <th>max_players</th>\n",
       "      <th>min_players_rec</th>\n",
       "      <th>...</th>\n",
       "      <th>stddev_rating</th>\n",
       "      <th>bayes_rating</th>\n",
       "      <th>complexity</th>\n",
       "      <th>language_dependency</th>\n",
       "      <th>bga_id</th>\n",
       "      <th>dbpedia_id</th>\n",
       "      <th>luding_id</th>\n",
       "      <th>spielen_id</th>\n",
       "      <th>wikidata_id</th>\n",
       "      <th>wikipedia_id</th>\n",
       "    </tr>\n",
       "  </thead>\n",
       "  <tbody>\n",
       "    <tr>\n",
       "      <th>0</th>\n",
       "      <td>NaN</td>\n",
       "      <td>Sword and Sail</td>\n",
       "      <td>2004.0</td>\n",
       "      <td>NaN</td>\n",
       "      <td>id,num_games,score,game,url,images</td>\n",
       "      <td>NaN</td>\n",
       "      <td>name,id,url,num_games,score,game,images</td>\n",
       "      <td>2.0</td>\n",
       "      <td>5.0</td>\n",
       "      <td>NaN</td>\n",
       "      <td>...</td>\n",
       "      <td>NaN</td>\n",
       "      <td>NaN</td>\n",
       "      <td>NaN</td>\n",
       "      <td>NaN</td>\n",
       "      <td>002IJykbze</td>\n",
       "      <td>NaN</td>\n",
       "      <td>NaN</td>\n",
       "      <td>NaN</td>\n",
       "      <td>NaN</td>\n",
       "      <td>NaN</td>\n",
       "    </tr>\n",
       "    <tr>\n",
       "      <th>1</th>\n",
       "      <td>NaN</td>\n",
       "      <td>Lords of Vegas: Underworld – Vegas Shutdown Pr...</td>\n",
       "      <td>2020.0</td>\n",
       "      <td>NaN</td>\n",
       "      <td>id,num_games,score,game,url,images</td>\n",
       "      <td>NaN</td>\n",
       "      <td>name,id,url,num_games,score,game,images</td>\n",
       "      <td>2.0</td>\n",
       "      <td>4.0</td>\n",
       "      <td>NaN</td>\n",
       "      <td>...</td>\n",
       "      <td>NaN</td>\n",
       "      <td>NaN</td>\n",
       "      <td>NaN</td>\n",
       "      <td>NaN</td>\n",
       "      <td>006hZ0EM7o</td>\n",
       "      <td>NaN</td>\n",
       "      <td>NaN</td>\n",
       "      <td>NaN</td>\n",
       "      <td>NaN</td>\n",
       "      <td>NaN</td>\n",
       "    </tr>\n",
       "    <tr>\n",
       "      <th>2</th>\n",
       "      <td>NaN</td>\n",
       "      <td>Charon</td>\n",
       "      <td>1996.0</td>\n",
       "      <td>NaN</td>\n",
       "      <td>id,num_games,score,game,url,images</td>\n",
       "      <td>Andreas Lenz</td>\n",
       "      <td>name,id,url,num_games,score,game,images</td>\n",
       "      <td>2.0</td>\n",
       "      <td>4.0</td>\n",
       "      <td>NaN</td>\n",
       "      <td>...</td>\n",
       "      <td>NaN</td>\n",
       "      <td>NaN</td>\n",
       "      <td>NaN</td>\n",
       "      <td>NaN</td>\n",
       "      <td>007646Mm8B</td>\n",
       "      <td>NaN</td>\n",
       "      <td>NaN</td>\n",
       "      <td>NaN</td>\n",
       "      <td>NaN</td>\n",
       "      <td>NaN</td>\n",
       "    </tr>\n",
       "    <tr>\n",
       "      <th>3</th>\n",
       "      <td>NaN</td>\n",
       "      <td>Fotbolls-MIG</td>\n",
       "      <td>2010.0</td>\n",
       "      <td>NaN</td>\n",
       "      <td>NaN</td>\n",
       "      <td>NaN</td>\n",
       "      <td>name,id,url,num_games,score,game,images</td>\n",
       "      <td>2.0</td>\n",
       "      <td>2.0</td>\n",
       "      <td>NaN</td>\n",
       "      <td>...</td>\n",
       "      <td>NaN</td>\n",
       "      <td>NaN</td>\n",
       "      <td>NaN</td>\n",
       "      <td>NaN</td>\n",
       "      <td>007nZoHMje</td>\n",
       "      <td>NaN</td>\n",
       "      <td>NaN</td>\n",
       "      <td>NaN</td>\n",
       "      <td>NaN</td>\n",
       "      <td>NaN</td>\n",
       "    </tr>\n",
       "    <tr>\n",
       "      <th>4</th>\n",
       "      <td>NaN</td>\n",
       "      <td>Profiteers</td>\n",
       "      <td>NaN</td>\n",
       "      <td>NaN</td>\n",
       "      <td>id,num_games,score,game,url,images</td>\n",
       "      <td>NaN</td>\n",
       "      <td>name,id,url,num_games,score,game,images</td>\n",
       "      <td>3.0</td>\n",
       "      <td>5.0</td>\n",
       "      <td>NaN</td>\n",
       "      <td>...</td>\n",
       "      <td>NaN</td>\n",
       "      <td>NaN</td>\n",
       "      <td>NaN</td>\n",
       "      <td>NaN</td>\n",
       "      <td>008xXY6De5</td>\n",
       "      <td>NaN</td>\n",
       "      <td>NaN</td>\n",
       "      <td>NaN</td>\n",
       "      <td>NaN</td>\n",
       "      <td>NaN</td>\n",
       "    </tr>\n",
       "  </tbody>\n",
       "</table>\n",
       "<p>5 rows × 38 columns</p>\n",
       "</div>"
      ],
      "text/plain": [
       "   bgg_id                                               name    year  \\\n",
       "0     NaN                                     Sword and Sail  2004.0   \n",
       "1     NaN  Lords of Vegas: Underworld – Vegas Shutdown Pr...  2020.0   \n",
       "2     NaN                                             Charon  1996.0   \n",
       "3     NaN                                       Fotbolls-MIG  2010.0   \n",
       "4     NaN                                         Profiteers     NaN   \n",
       "\n",
       "   game_type                            designer        artist  \\\n",
       "0        NaN  id,num_games,score,game,url,images           NaN   \n",
       "1        NaN  id,num_games,score,game,url,images           NaN   \n",
       "2        NaN  id,num_games,score,game,url,images  Andreas Lenz   \n",
       "3        NaN                                 NaN           NaN   \n",
       "4        NaN  id,num_games,score,game,url,images           NaN   \n",
       "\n",
       "                                 publisher  min_players  max_players  \\\n",
       "0  name,id,url,num_games,score,game,images          2.0          5.0   \n",
       "1  name,id,url,num_games,score,game,images          2.0          4.0   \n",
       "2  name,id,url,num_games,score,game,images          2.0          4.0   \n",
       "3  name,id,url,num_games,score,game,images          2.0          2.0   \n",
       "4  name,id,url,num_games,score,game,images          3.0          5.0   \n",
       "\n",
       "   min_players_rec  ...  stddev_rating  bayes_rating  complexity  \\\n",
       "0              NaN  ...            NaN           NaN         NaN   \n",
       "1              NaN  ...            NaN           NaN         NaN   \n",
       "2              NaN  ...            NaN           NaN         NaN   \n",
       "3              NaN  ...            NaN           NaN         NaN   \n",
       "4              NaN  ...            NaN           NaN         NaN   \n",
       "\n",
       "   language_dependency      bga_id  dbpedia_id  luding_id spielen_id  \\\n",
       "0                  NaN  002IJykbze         NaN        NaN        NaN   \n",
       "1                  NaN  006hZ0EM7o         NaN        NaN        NaN   \n",
       "2                  NaN  007646Mm8B         NaN        NaN        NaN   \n",
       "3                  NaN  007nZoHMje         NaN        NaN        NaN   \n",
       "4                  NaN  008xXY6De5         NaN        NaN        NaN   \n",
       "\n",
       "  wikidata_id  wikipedia_id  \n",
       "0         NaN           NaN  \n",
       "1         NaN           NaN  \n",
       "2         NaN           NaN  \n",
       "3         NaN           NaN  \n",
       "4         NaN           NaN  \n",
       "\n",
       "[5 rows x 38 columns]"
      ]
     },
     "execution_count": 7,
     "metadata": {},
     "output_type": "execute_result"
    }
   ],
   "source": [
    "\n",
    "df = pd.read_csv(\"bga_GameItem.csv\")\n",
    "df.head()\n"
   ]
  },
  {
   "cell_type": "code",
   "execution_count": 11,
   "id": "eee9136d",
   "metadata": {},
   "outputs": [
    {
     "data": {
      "text/html": [
       "<div>\n",
       "<style scoped>\n",
       "    .dataframe tbody tr th:only-of-type {\n",
       "        vertical-align: middle;\n",
       "    }\n",
       "\n",
       "    .dataframe tbody tr th {\n",
       "        vertical-align: top;\n",
       "    }\n",
       "\n",
       "    .dataframe thead th {\n",
       "        text-align: right;\n",
       "    }\n",
       "</style>\n",
       "<table border=\"1\" class=\"dataframe\">\n",
       "  <thead>\n",
       "    <tr style=\"text-align: right;\">\n",
       "      <th></th>\n",
       "      <th>designer</th>\n",
       "      <th>artist</th>\n",
       "      <th>mechanic</th>\n",
       "      <th>category</th>\n",
       "      <th>game_type</th>\n",
       "      <th>family</th>\n",
       "      <th>publisher</th>\n",
       "    </tr>\n",
       "  </thead>\n",
       "  <tbody>\n",
       "    <tr>\n",
       "      <th>0</th>\n",
       "      <td>id,num_games,score,game,url,images</td>\n",
       "      <td>NaN</td>\n",
       "      <td>NaN</td>\n",
       "      <td>NaN</td>\n",
       "      <td>NaN</td>\n",
       "      <td>NaN</td>\n",
       "      <td>name,id,url,num_games,score,game,images</td>\n",
       "    </tr>\n",
       "    <tr>\n",
       "      <th>1</th>\n",
       "      <td>id,num_games,score,game,url,images</td>\n",
       "      <td>NaN</td>\n",
       "      <td>NaN</td>\n",
       "      <td>NaN</td>\n",
       "      <td>NaN</td>\n",
       "      <td>NaN</td>\n",
       "      <td>name,id,url,num_games,score,game,images</td>\n",
       "    </tr>\n",
       "    <tr>\n",
       "      <th>2</th>\n",
       "      <td>id,num_games,score,game,url,images</td>\n",
       "      <td>Andreas Lenz</td>\n",
       "      <td>NaN</td>\n",
       "      <td>NaN</td>\n",
       "      <td>NaN</td>\n",
       "      <td>NaN</td>\n",
       "      <td>name,id,url,num_games,score,game,images</td>\n",
       "    </tr>\n",
       "    <tr>\n",
       "      <th>3</th>\n",
       "      <td>NaN</td>\n",
       "      <td>NaN</td>\n",
       "      <td>NaN</td>\n",
       "      <td>NaN</td>\n",
       "      <td>NaN</td>\n",
       "      <td>NaN</td>\n",
       "      <td>name,id,url,num_games,score,game,images</td>\n",
       "    </tr>\n",
       "    <tr>\n",
       "      <th>4</th>\n",
       "      <td>id,num_games,score,game,url,images</td>\n",
       "      <td>NaN</td>\n",
       "      <td>jbLrZb1xIb</td>\n",
       "      <td>N0TkEGfEsF</td>\n",
       "      <td>NaN</td>\n",
       "      <td>NaN</td>\n",
       "      <td>name,id,url,num_games,score,game,images</td>\n",
       "    </tr>\n",
       "    <tr>\n",
       "      <th>...</th>\n",
       "      <td>...</td>\n",
       "      <td>...</td>\n",
       "      <td>...</td>\n",
       "      <td>...</td>\n",
       "      <td>...</td>\n",
       "      <td>...</td>\n",
       "      <td>...</td>\n",
       "    </tr>\n",
       "    <tr>\n",
       "      <th>95</th>\n",
       "      <td>NaN</td>\n",
       "      <td>NaN</td>\n",
       "      <td>NaN</td>\n",
       "      <td>NaN</td>\n",
       "      <td>NaN</td>\n",
       "      <td>NaN</td>\n",
       "      <td>NaN</td>\n",
       "    </tr>\n",
       "    <tr>\n",
       "      <th>96</th>\n",
       "      <td>id,num_games,score,game,url,images</td>\n",
       "      <td>NaN</td>\n",
       "      <td>NaN</td>\n",
       "      <td>NaN</td>\n",
       "      <td>NaN</td>\n",
       "      <td>NaN</td>\n",
       "      <td>name,id,url,num_games,score,game,images</td>\n",
       "    </tr>\n",
       "    <tr>\n",
       "      <th>97</th>\n",
       "      <td>NaN</td>\n",
       "      <td>NaN</td>\n",
       "      <td>NaN</td>\n",
       "      <td>NaN</td>\n",
       "      <td>NaN</td>\n",
       "      <td>NaN</td>\n",
       "      <td>NaN</td>\n",
       "    </tr>\n",
       "    <tr>\n",
       "      <th>98</th>\n",
       "      <td>id,num_games,score,game,url,images</td>\n",
       "      <td>Kwanchai Moriya,Todd Sanders</td>\n",
       "      <td>PGjmKGi26h,05zCZoLvQJ,R0bGq4cAl4</td>\n",
       "      <td>NaN</td>\n",
       "      <td>NaN</td>\n",
       "      <td>NaN</td>\n",
       "      <td>name,id,url,num_games,score,game,images</td>\n",
       "    </tr>\n",
       "    <tr>\n",
       "      <th>99</th>\n",
       "      <td>id,num_games,score,game,url,images</td>\n",
       "      <td>NaN</td>\n",
       "      <td>NaN</td>\n",
       "      <td>NaN</td>\n",
       "      <td>NaN</td>\n",
       "      <td>NaN</td>\n",
       "      <td>name,id,url,num_games,score,game,images</td>\n",
       "    </tr>\n",
       "  </tbody>\n",
       "</table>\n",
       "<p>100 rows × 7 columns</p>\n",
       "</div>"
      ],
      "text/plain": [
       "                              designer                        artist  \\\n",
       "0   id,num_games,score,game,url,images                           NaN   \n",
       "1   id,num_games,score,game,url,images                           NaN   \n",
       "2   id,num_games,score,game,url,images                  Andreas Lenz   \n",
       "3                                  NaN                           NaN   \n",
       "4   id,num_games,score,game,url,images                           NaN   \n",
       "..                                 ...                           ...   \n",
       "95                                 NaN                           NaN   \n",
       "96  id,num_games,score,game,url,images                           NaN   \n",
       "97                                 NaN                           NaN   \n",
       "98  id,num_games,score,game,url,images  Kwanchai Moriya,Todd Sanders   \n",
       "99  id,num_games,score,game,url,images                           NaN   \n",
       "\n",
       "                            mechanic    category  game_type  family  \\\n",
       "0                                NaN         NaN        NaN     NaN   \n",
       "1                                NaN         NaN        NaN     NaN   \n",
       "2                                NaN         NaN        NaN     NaN   \n",
       "3                                NaN         NaN        NaN     NaN   \n",
       "4                         jbLrZb1xIb  N0TkEGfEsF        NaN     NaN   \n",
       "..                               ...         ...        ...     ...   \n",
       "95                               NaN         NaN        NaN     NaN   \n",
       "96                               NaN         NaN        NaN     NaN   \n",
       "97                               NaN         NaN        NaN     NaN   \n",
       "98  PGjmKGi26h,05zCZoLvQJ,R0bGq4cAl4         NaN        NaN     NaN   \n",
       "99                               NaN         NaN        NaN     NaN   \n",
       "\n",
       "                                  publisher  \n",
       "0   name,id,url,num_games,score,game,images  \n",
       "1   name,id,url,num_games,score,game,images  \n",
       "2   name,id,url,num_games,score,game,images  \n",
       "3   name,id,url,num_games,score,game,images  \n",
       "4   name,id,url,num_games,score,game,images  \n",
       "..                                      ...  \n",
       "95                                      NaN  \n",
       "96  name,id,url,num_games,score,game,images  \n",
       "97                                      NaN  \n",
       "98  name,id,url,num_games,score,game,images  \n",
       "99  name,id,url,num_games,score,game,images  \n",
       "\n",
       "[100 rows x 7 columns]"
      ]
     },
     "execution_count": 11,
     "metadata": {},
     "output_type": "execute_result"
    }
   ],
   "source": [
    "columnas_interes = [\"designer\", \"artist\", \"mechanic\", \"category\", \"game_type\", \"family\", \"publisher\"]\n",
    "df_uwu = df[columnas_interes]\n",
    "\n",
    "df_uwu.head(100)"
   ]
  },
  {
   "attachments": {
    "image.png": {
     "image/png": "[encoded data removed]"
    }
   },
   "cell_type": "markdown",
   "id": "26f1954a",
   "metadata": {},
   "source": [
    "Ahora me toca guardarlo, por si acaso, se guardo en la carpeta Tarea 1\\data\\kagglehub\\datasets\\mshepherd\\board-games\\versions\\13\n",
    "\n",
    "![image.png](attachment:image.png)"
   ]
  },
  {
   "cell_type": "code",
   "execution_count": 12,
   "id": "7078048f",
   "metadata": {},
   "outputs": [],
   "source": [
    "df_uwu.to_csv(\"df_uwu\", encoding=\"utf-8\")"
   ]
  },
  {
   "cell_type": "markdown",
   "id": "dec5cbbb",
   "metadata": {},
   "source": [
    "**b) (0.2 pts)** ¿Cuánto espacio en disco ocupa este DataFrame? ¿Cuánto espacio en disco ocupan los documentos CSV separados? ¿A qué se debe esta diferencia? Comente.\n",
    "\n"
   ]
  },
  {
   "cell_type": "code",
   "execution_count": 13,
   "id": "616716ba",
   "metadata": {},
   "outputs": [
    {
     "name": "stdout",
     "output_type": "stream",
     "text": [
      " Volume in drive C has no label.\n",
      " Volume Serial Number is 9E56-4120\n",
      "\n",
      " Directory of c:\\GIT HUB DESKO\\IMT2200-Lucas-Chicao\\Tareas\\Tarea 1\\data\\kagglehub\\datasets\\mshepherd\\board-games\\versions\\13\n",
      "\n",
      "08/17/2025  08:22 PM    <DIR>          .\n",
      "08/15/2025  04:25 PM    <DIR>          ..\n",
      "08/15/2025  04:24 PM        18,733,436 bga_GameItem.csv\n",
      "08/15/2025  04:24 PM             1,532 bgg_Category.csv\n",
      "08/15/2025  04:24 PM           169,033 bgg_GameFamily.csv\n",
      "08/15/2025  04:24 PM        16,076,821 bgg_GameItem.csv\n",
      "08/15/2025  04:24 PM               218 bgg_GameType.csv\n",
      "08/15/2025  04:24 PM             4,427 bgg_Mechanic.csv\n",
      "08/15/2025  04:24 PM         1,161,855 bgg_Person.csv\n",
      "08/15/2025  04:24 PM           596,420 bgg_Publisher.csv\n",
      "08/15/2025  04:24 PM           586,441 dbpedia_GameItem.csv\n",
      "08/17/2025  08:22 PM        10,081,607 df_uwu\n",
      "08/15/2025  04:24 PM         3,452,968 luding_GameItem.csv\n",
      "08/15/2025  04:24 PM           801,632 spielen_GameItem.csv\n",
      "08/15/2025  04:24 PM           542,338 wikidata_GameItem.csv\n",
      "              13 File(s)     52,208,728 bytes\n",
      "               2 Dir(s)  24,124,387,328 bytes free\n"
     ]
    }
   ],
   "source": [
    "%ls"
   ]
  },
  {
   "attachments": {
    "image.png": {
     "image/png": "[encoded data removed]"
    }
   },
   "cell_type": "markdown",
   "id": "c4d28d09",
   "metadata": {},
   "source": [
    "Tecnicamente si hacemos la division de bytes podemos sacarlo el espacio en mb...\n",
    "\n",
    "Me da mucha pereza hacer el calculo, le pedi a copylot que me diera \n",
    "\n",
    "Este fue el prompt :\n",
    "Volume in drive C has no label. Volume Serial Number is 9E56-4120 Directory of c:\\GIT HUB DESKO\\IMT2200-Lucas-Chicao\\Tareas\\Tarea 1\\data\\kagglehub\\datasets\\mshepherd\\board-games\\versions\\13 08/17/2025 08:22 PM <DIR> . 08/15/2025 04:25 PM <DIR> .. 08/15/2025 04:24 PM 18,733,436 bga_GameItem.csv 08/15/2025 04:24 PM 1,532 bgg_Category.csv 08/15/2025 04:24 PM 169,033 bgg_GameFamily.csv 08/15/2025 04:24 PM 16,076,821 bgg_GameItem.csv 08/15/2025 04:24 PM 218 bgg_GameType.csv 08/15/2025 04:24 PM 4,427 bgg_Mechanic.csv 08/15/2025 04:24 PM 1,161,855 bgg_Person.csv 08/15/2025 04:24 PM 596,420 bgg_Publisher.csv 08/15/2025 04:24 PM 586,441 dbpedia_GameItem.csv 08/17/2025 08:22 PM 10,081,607 df_uwu 08/15/2025 04:24 PM 3,452,968 luding_GameItem.csv 08/15/2025 04:24 PM 801,632 spielen_GameItem.csv 08/15/2025 04:24 PM 542,338 wikidata_GameItem.csv 13 File(s) 52,208,728 bytes 2 Dir(s) 24,124,387,328 bytes free Pasame el peso de cada csv a mb\n",
    "\n",
    "\n",
    "Copylot: \n",
    "\n",
    "![image.png](attachment:image.png)\n",
    "\n",
    "Deduzco que los que pesan 0.00 es que pesan 0.00algo y deben estar en el rango de Kb"
   ]
  },
  {
   "cell_type": "markdown",
   "id": "b8c7bec6",
   "metadata": {},
   "source": [
    "### 3.2 Juegos publicados anualmente (1.5 puntos)\n",
    "\n",
    "\n",
    "**a) (0.5 pts)** Limpie los datos para dejar solo aquellos que tienen valores válidos de año de publicación. Luego responda: ¿cuál es el rango de años con el que estamos trabajando? ¿Tienen sentido estos años?\n"
   ]
  },
  {
   "cell_type": "code",
   "execution_count": null,
   "id": "a8c60679",
   "metadata": {},
   "outputs": [],
   "source": []
  },
  {
   "cell_type": "markdown",
   "id": "7b8d452e",
   "metadata": {},
   "source": [
    "**b) (0.5 pts)** Seleccione solamente los juegos entre los años 1980 y 2025. Luego grafique la cantidad de juegos publicados por año. ¿Cómo es esta tendencia? Comente."
   ]
  },
  {
   "cell_type": "code",
   "execution_count": null,
   "id": "f073e58e",
   "metadata": {},
   "outputs": [],
   "source": []
  },
  {
   "cell_type": "markdown",
   "id": "047c1e61",
   "metadata": {},
   "source": [
    "**c) (0.5 pts)** ¿Entre qué años hubo un mayor aumento de publicación de juegos de mesa según los registros de BGG?"
   ]
  },
  {
   "cell_type": "code",
   "execution_count": null,
   "id": "e09fa10b",
   "metadata": {},
   "outputs": [],
   "source": []
  },
  {
   "cell_type": "markdown",
   "id": "6c22b65f",
   "metadata": {},
   "source": [
    "### 3.3 Análisis de duración y complejidad (1.5 puntos)\n",
    "\n",
    "Si bien hay muchas posibles características que podemos explorar para los juegos de mesa, esta vez nos centraremos en el tiempo de juego y la complejidad. En esta sección queremos comprender si se ha modificado notablemente la duración promedio y la percepción de complejidad de los juegos de mesa a través de los años."
   ]
  },
  {
   "cell_type": "markdown",
   "id": "e6f0c875",
   "metadata": {},
   "source": [
    "**a) (0.3 pts)** Inspecciones y filtre los datos que tengan valores válidos para: tiempo mínimo de juego, tiempo máximo de juego y complejidad. En el caso de que existan \"outliers\", puede descartarlos, cosiderando un rango razonable para las variables anteriores. Justifique su desición."
   ]
  },
  {
   "cell_type": "code",
   "execution_count": null,
   "id": "0e87bbc2",
   "metadata": {},
   "outputs": [],
   "source": []
  },
  {
   "cell_type": "markdown",
   "id": "848e2dee",
   "metadata": {},
   "source": [
    "**b) (0.2 pts)** Veremos ahora si ha cambiado la duración promedio de los juegos de mesa en nuestro rango de años seleccionado. Primero, cree una nueva columna `avg_time` en el dataset con la duración promedio supuesta para cada juego."
   ]
  },
  {
   "cell_type": "code",
   "execution_count": null,
   "id": "204778d8",
   "metadata": {},
   "outputs": [],
   "source": []
  },
  {
   "cell_type": "markdown",
   "id": "89df6ae6",
   "metadata": {},
   "source": [
    "**c) (0.5 pts)** Grafique la duración promedio de juegos al año entre 1980 y 2025. ¿Existe alguna tendencia? Asegúrese de colocar las unidades correspondientes en sus ejes si es necesario. Comente sus resultados."
   ]
  },
  {
   "cell_type": "code",
   "execution_count": null,
   "id": "765da813",
   "metadata": {},
   "outputs": [],
   "source": []
  },
  {
   "cell_type": "markdown",
   "id": "a5847905",
   "metadata": {},
   "source": [
    "**d) (0.5 pts)** Nos interesa saber si los juegos de mesa recientes son más complejos que aquellos publicados antes de los 2000. BoardGameGeek permite evaluar la complejidad (o \"weight\") de un juego en una escala de 1 a 5, siendo 1 un juego \"liviano\" o fácil de entender, y 5 un juego \"pesado\" o complejo. Primero, seleccione los juegos que han sido evaluados por al menos 100 usuarios. Luego grafique la complejidad promedio de los juegos según año. Responda: ¿ha cambiado la percepción de complejidad entre juegos entre 1980 y la actualidad?"
   ]
  },
  {
   "cell_type": "code",
   "execution_count": null,
   "id": "776553e6",
   "metadata": {},
   "outputs": [],
   "source": []
  },
  {
   "cell_type": "markdown",
   "id": "9a241f39",
   "metadata": {},
   "source": [
    "### 3.4 Análisis de categorías comunes (2 puntos)\n",
    "\n",
    "Existe una gran diversidad de categorías de juegos de mesa. Ahora nos concentraremos en un grupo específico de ellas, con el fin de analizar cómo a cambiado la cantidad de juegos de estas clases desde 1980 hasta hoy.\n",
    "\n",
    "**a) (0.7 pts)** ¿Cuáles son las 5 categorías más comunes en los juegos del dataset? Muestre la cantidad de juegos que hay de cada una. Puede graficar estos valores, o bien, entregar un DataFrame con sus valores."
   ]
  },
  {
   "cell_type": "code",
   "execution_count": null,
   "id": "13730de1",
   "metadata": {},
   "outputs": [],
   "source": []
  },
  {
   "cell_type": "markdown",
   "id": "d9aa153e",
   "metadata": {},
   "source": [
    "**b) (0.3 pts)** Para cada una de estas 5 categorías, cree un DataFrame que contenga la cantidad de juegos en el dataset según año. Luego junte estos DataFrames en uno solo con los atributos de \"Año\", \"Categoría\" y \"Cantidad\"."
   ]
  },
  {
   "cell_type": "code",
   "execution_count": null,
   "id": "325d450d",
   "metadata": {},
   "outputs": [],
   "source": []
  },
  {
   "cell_type": "markdown",
   "id": "d299aa4c",
   "metadata": {},
   "source": [
    "**c) (1 pto)** Grafique, en un solo gráfico y con distintos colores, la cantidad de juegos por año según categoría. Preocúpese de ponerle etiquetas al gráfico para identificar cada categoría y una leyenda donde se muestre cada una. Comente: ¿ha habido un cambio entre los juegos más comunes en los años 80 y hoy?\n"
   ]
  },
  {
   "cell_type": "code",
   "execution_count": null,
   "id": "7ad14cda",
   "metadata": {},
   "outputs": [],
   "source": []
  },
  {
   "cell_type": "markdown",
   "id": "9db1ea34-4030-4b3a-8853-4ef75f894298",
   "metadata": {},
   "source": [
    "### 3.5 Análisis Crítico (Bono +0.5 puntos)\n",
    "\n",
    "¿Qué limitaciones o problemas encontraste en los datos?"
   ]
  },
  {
   "cell_type": "code",
   "execution_count": null,
   "id": "cdbb98fe-7278-48ee-af95-05801244c50d",
   "metadata": {},
   "outputs": [],
   "source": []
  }
 ],
 "metadata": {
  "kernelspec": {
   "display_name": "Python 3",
   "language": "python",
   "name": "python3"
  },
  "language_info": {
   "codemirror_mode": {
    "name": "ipython",
    "version": 3
   },
   "file_extension": ".py",
   "mimetype": "text/x-python",
   "name": "python",
   "nbconvert_exporter": "python",
   "pygments_lexer": "ipython3",
   "version": "3.13.7"
  }
 },
 "nbformat": 4,
 "nbformat_minor": 5
}
