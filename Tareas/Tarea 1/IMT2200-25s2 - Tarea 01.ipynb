{
 "cells": [
  {
   "cell_type": "markdown",
   "id": "a34d140a",
   "metadata": {},
   "source": [
    "IMT 2200 - Introducción a Ciencia de Datos<br>\n",
    "**Pontificia Universidad Católica de Chile**<br>\n",
    "**Instituto de Ingeniería Matemática y Computacional**<br>\n",
    "**Semestre 2025-S2**<br>\n",
    "**Profesor:** Rodrigo A. Carrasco <br>\n",
    "\n",
    "---\n",
    "\n",
    "## Tarea 01 – Cargando y Analizando Datos\n",
    "\n",
    "- **Fecha de Entrega:** martes 26 de agosto de 2025, a las 23:59.\n",
    "- \n",
    "**Formato de entrega:** Notebook ejecutado y comentado (`.ipynb`) en l emódulo de Tara 01 habilitado en Canvas.\n",
    "\n",
    "\n"
   ]
  },
  {
   "cell_type": "markdown",
   "id": "b6928ed9-0a2b-4588-8282-b3f3e5e24a8c",
   "metadata": {},
   "source": [
    "## Instrucciones\n",
    "\n",
    "- Esta Tarea debe desarrollarse de manera totalmente *individual*, de acuerdo a lo establecido en la sección de Integridad Académica en el programa del curso.\n",
    "- La Tarea debe ser desarrollada en lenguaje de programación Python y la entrega en formato Jupyter Notebook.\n",
    "- El desarrollo del Notebook debe ser claro y ordenado, incluyendo anotaciones (markdown) y comentarios que permitan seguir fácilmente el código y los pasos implementados a los correctores, y siguiendo buenas prácticas de programación. La presentación y claridad del notebook y código forman parte de la evaluación de la tarea.\n",
    "- Notebook **autocontenible** que:\n",
    "   - Ejecute sin errores todas las celdas.\n",
    "  - Contenga tanto el código como los comentarios y explicaciones necesarias.\n",
    "  - Incluya visualizaciones claras y correctamente etiquetadas.\n",
    "- No se aceptarán notebooks con celdas rotas o que dependan de rutas externas no indicadas en la tara.\n",
    "\n",
    "- Deben hacer sus consultas y comentarios sobre la Tarea a traves del canal de Tareas en eo del curso en Canvas.os.\n",
    "cteriza."
   ]
  },
  {
   "cell_type": "markdown",
   "id": "35a88d5e-b718-4b8e-81c8-dc169d02e88e",
   "metadata": {},
   "source": [
    "## 1. Objetivos\n",
    "\n",
    "- Aplicar los conceptos iniciales de manejo de datos y análisis exploratorio vistos en clases.\n",
    "- Practicar la lectura, limpieza y manipulación de datos en Python.\n",
    "- Desarrollar habilidades para visualizar y describir patrones y tendencias en conjuntos de datos reales.\n",
    "- Fomentar la capacidad de comunicar resultados de forma clara y fundamentada.\n",
    "\n",
    "### 1.1 Objetivo educacional\n",
    "\n",
    "Esta Tarea tiene como objetivo que los estudiantes desarrollen la capacidad de manejar algunas de las librerías centrales para el desarrollo de Ciencia de Datos, con foco en la lectura y exploración de datos. \n",
    "\n",
    "Para los ejercicios a continuación, usted deberá leer, inspeccionar, manipular y graficar conjuntos de datos en distintos formatos, de manera de responder las preguntas de cada parte de la Tarea.\n",
    "\n",
    "### 1.2 Pregunta de ciencia de datos\n",
    "\n",
    "Para esta tarea, tendremos como objetivo comprender cómo han cambiado los juegos de mesa en los últimos 40 años. Específicamente queremos saber qué tipos de juegos se han vuelto más comunes hoy en día y qué los caracteriza.\n",
    "\n",
    "### 1.3 Recomendaciones\n",
    "- Utiliza las librerías sugeridas en el notebook o justifica brevemente si incorporas otras.\n",
    "- Revisa que todas las celdas se ejecuten en orden, desde el inicio, sin errores.\n",
    "- Comenta tu código para explicar qué hace cada sección relevante.\n",
    "- Asegúrate de que las visualizaciones sean fáciles de interpretar y tengan títulos y etiquetas adecuados."
   ]
  },
  {
   "cell_type": "markdown",
   "id": "116596ef",
   "metadata": {},
   "source": [
    "## 2. Datos\n",
    "\n",
    "Estaremos utilizando información extraída desde [BoardGameGeek.com](https://boardgamegeek.com/), una plataforma para aficionados de los juegos de mesa, que permite a sus usuarios registrar, calificar e intercambiar sus juegos favoritos. Actualmente, BGG es una de las bases de datos más extensa y diversa de juegos de mesa.\n",
    "\n",
    "El dataset con el que trabajaremos consiste en un grupo de archivos CSV que contienen información sobre más de 100.000 juegos de mesa almacenados en la plataforma. Este puede descargarse directamente desde el siguiente enlace: https://www.kaggle.com/datasets/mshepherd/board-games Para descargar los datos, haga click en el botón de **Download**, donde podrá descargar los archivos como `.zip`, o bien utilizar la API de Kaggle.\n",
    "\n",
    "Para el desarrollo de esta tarea, solo utilizaremos los archivos con el prefijo `bgg_`.\n",
    "\n",
    "**Si utiliza la API de Kaggle para descargar los datos, deje el código utilizado en la siguiente celda:**"
   ]
  },
  {
   "cell_type": "code",
   "execution_count": 9,
   "id": "3499fd7e",
   "metadata": {},
   "outputs": [
    {
     "name": "stdout",
     "output_type": "stream",
     "text": [
      "Path to dataset files: C:\\Users\\lchicao\\.cache\\kagglehub\\datasets\\mshepherd\\board-games\\versions\\13\n"
     ]
    }
   ],
   "source": [
    "# Descarga de datos desde Kaggle\n",
    "import kagglehub\n",
    "\n",
    "# Download latest version\n",
    "path = kagglehub.dataset_download(\"mshepherd/board-games\")\n",
    "\n",
    "print(\"Path to dataset files:\", path)"
   ]
  },
  {
   "cell_type": "markdown",
   "id": "7fefd4e8",
   "metadata": {},
   "source": [
    "#Busque donde se me descargo e hice copy-paste a una carpeta llamada data dentro de la carpeta que contiene este repositorio"
   ]
  },
  {
   "cell_type": "markdown",
   "id": "c32f6e52",
   "metadata": {},
   "source": [
    "### 2.1 Librerías\n",
    "\n",
    "Para esta tarea recomendamos al menos usar las librerías indicadas en la siguiente celda del Notebook. Puede agregar otras si lo estima conveniente para responder de mejor forma las preguntas de la Tarea."
   ]
  },
  {
   "cell_type": "code",
   "execution_count": 1,
   "id": "87be9d83",
   "metadata": {},
   "outputs": [],
   "source": [
    "import numpy as np\n",
    "import pandas as pd\n",
    "import matplotlib.pyplot as plt"
   ]
  },
  {
   "cell_type": "markdown",
   "id": "49c9c1e7",
   "metadata": {},
   "source": [
    "## 3. Desarrollo\n",
    "\n",
    "Para cada una de las siguientes preguntas o actividades incluya una o más celdas de código y Markdown con las respuestas o comentarios necesarios para contestar la pregunta o lograr la actividad. Agregue sus celdas a continuación de cada pregunta para que el Notebook quede ordenado.\n",
    "\n",
    "En el caso de gráficos, figuras o tablas, asegúrese que todas tengan título, etiquetas en los ejes o haya claridad de los contenidos."
   ]
  },
  {
   "cell_type": "markdown",
   "id": "dfc274ca",
   "metadata": {},
   "source": [
    "### 3.1 DataFrame unificado (1 punto)\n",
    "\n",
    "Vamos a cargar en un DataFrame los datos de juegos guardados en el documento `bgg_GameItem.csv`. Al inspeccionar nuestros datos, podemos notar que los valores de ciertas comunas vienen \"codificados\" con ID. Para comenzar, vamos a juntar la información de los distintos archivos descargados.\n",
    "\n",
    "**a) (0.8 pts)** Genere un DataFrame único con toda la información de cada juego, incluyendo: nombres de artistas y diseñadores involucrados, mecánicas, categorías, tipo, familia y editorial. Guarde este DataFrame en un nuevo archivo CSV."
   ]
  },
  {
   "cell_type": "markdown",
   "id": "7df1f8c5",
   "metadata": {},
   "source": [
    "Primero voy a localizarme en el archivo xd"
   ]
  },
  {
   "cell_type": "code",
   "execution_count": null,
   "id": "5abfd555",
   "metadata": {},
   "outputs": [],
   "source": []
  },
  {
   "cell_type": "code",
   "execution_count": 18,
   "id": "53100b05",
   "metadata": {},
   "outputs": [
    {
     "name": "stdout",
     "output_type": "stream",
     "text": [
      "[WinError 3] The system cannot find the path specified: 'data\\\\kagglehub\\\\datasets\\\\mshepherd\\\\board-games\\\\versions\\\\13'\n",
      "C:\\Users\\lchicao\n"
     ]
    }
   ],
   "source": [
    "%cd data\\kagglehub\\datasets\\mshepherd\\board-games\\versions\\13"
   ]
  },
  {
   "cell_type": "code",
   "execution_count": 11,
   "id": "e2e14049",
   "metadata": {},
   "outputs": [
    {
     "data": {
      "text/plain": [
       "'C:\\\\Users\\\\lchicao'"
      ]
     },
     "execution_count": 11,
     "metadata": {},
     "output_type": "execute_result"
    }
   ],
   "source": [
    "%pwd"
   ]
  },
  {
   "cell_type": "code",
   "execution_count": 36,
   "id": "b2cf21b0",
   "metadata": {},
   "outputs": [
    {
     "name": "stdout",
     "output_type": "stream",
     "text": [
      " Volume in drive C has no label.\n",
      " Volume Serial Number is 9E56-4120\n",
      "\n",
      " Directory of c:\\GIT HUB DESKO\\IMT2200-Lucas-Chicao\\Tareas\\Tarea 1\\data\\kagglehub\\datasets\\mshepherd\\board-games\\versions\\13\n",
      "\n",
      "08/15/2025  04:25 PM    <DIR>          .\n",
      "08/15/2025  04:25 PM    <DIR>          ..\n",
      "08/15/2025  04:24 PM        18,733,436 bga_GameItem.csv\n",
      "08/15/2025  04:24 PM             1,532 bgg_Category.csv\n",
      "08/15/2025  04:24 PM           169,033 bgg_GameFamily.csv\n",
      "08/15/2025  04:24 PM        16,076,821 bgg_GameItem.csv\n",
      "08/15/2025  04:24 PM               218 bgg_GameType.csv\n",
      "08/15/2025  04:24 PM             4,427 bgg_Mechanic.csv\n",
      "08/15/2025  04:24 PM         1,161,855 bgg_Person.csv\n",
      "08/15/2025  04:24 PM           596,420 bgg_Publisher.csv\n",
      "08/15/2025  04:24 PM           586,441 dbpedia_GameItem.csv\n",
      "08/15/2025  04:24 PM         3,452,968 luding_GameItem.csv\n",
      "08/15/2025  04:24 PM           801,632 spielen_GameItem.csv\n",
      "08/15/2025  04:24 PM           542,338 wikidata_GameItem.csv\n",
      "              12 File(s)     42,127,121 bytes\n",
      "               2 Dir(s)  18,729,594,880 bytes free\n"
     ]
    }
   ],
   "source": [
    "%ls"
   ]
  },
  {
   "cell_type": "code",
   "execution_count": 143,
   "id": "12aabf07",
   "metadata": {},
   "outputs": [],
   "source": [
    "# bgg_id,name,year,game_type,designer,artist,publisher,min_players,max_players,min_players_rec,max_players_rec,min_players_best,max_players_best,min_age,min_age_rec,min_time,max_time,category,mechanic,cooperative,compilation,compilation_of,family,implementation,integration,rank,num_votes,avg_rating,stddev_rating,bayes_rating,complexity,language_dependency,bga_id,dbpedia_id,luding_id,spielen_id,wikidata_id,wikipedia_id\n",
    "\n",
    "lista_de_dataframes = []\n",
    "\n",
    "df_uwuwuwuwu = pd.read_csv(\"bga_GameItem.csv\")\n",
    "\n",
    "df1 = pd.read_csv(\"bgg_Category.csv\")\n",
    "lista_de_dataframes.append(df1)\n",
    "df2 = pd.read_csv(\"bgg_GameFamily.csv\")\n",
    "lista_de_dataframes.append(df2)\n",
    "df3 = pd.read_csv(\"bgg_GameItem.csv\")\n",
    "lista_de_dataframes.append(df3)\n",
    "df4 = pd.read_csv(\"bgg_GameType.csv\")\n",
    "lista_de_dataframes.append(df4)\n",
    "df5 = pd.read_csv(\"bgg_Mechanic.csv\")\n",
    "lista_de_dataframes.append(df5)\n",
    "df6 = pd.read_csv(\"bgg_Person.csv\")\n",
    "lista_de_dataframes.append(df6)\n",
    "df7 = pd.read_csv(\"bgg_Publisher.csv\")\n",
    "lista_de_dataframes.append(df7)\n",
    "df8 = pd.read_csv(\"dbpedia_GameItem.csv\")\n",
    "lista_de_dataframes.append(df8)\n",
    "df9 = pd.read_csv(\"luding_GameItem.csv\")\n",
    "lista_de_dataframes.append(df9)\n",
    "df10 = pd.read_csv(\"spielen_GameItem.csv\")\n",
    "lista_de_dataframes.append(df10)\n",
    "df11 = pd.read_csv(\"wikidata_GameItem.csv\")\n",
    "lista_de_dataframes.append(df11)"
   ]
  },
  {
   "cell_type": "code",
   "execution_count": 64,
   "id": "139a679c",
   "metadata": {},
   "outputs": [
    {
     "name": "stdout",
     "output_type": "stream",
     "text": [
      "True\n",
      "True\n",
      "True\n",
      "True\n",
      "True\n",
      "True\n",
      "True\n",
      "True\n",
      "True\n",
      "True\n",
      "True\n",
      "True\n",
      "12\n"
     ]
    }
   ],
   "source": [
    "#Estoy Revisando si todos los CSV tienene una misma columna para identificador, con esto podre unirlas mediante este atributo\n",
    "\n",
    "contador = 0\n",
    "for i in lista_de_dataframes:\n",
    "    for w in i.columns :        \n",
    "        if w == 'bgg_id' :\n",
    "            print(True)\n",
    "            contador += 1\n",
    "print(contador)\n"
   ]
  },
  {
   "cell_type": "markdown",
   "id": "42a03000",
   "metadata": {},
   "source": [
    "Usando merge del pandas cheat sheet puedo hacer una especie de JOIN (Lo vi en bdd, aun que es materia adelantada no encuentro otra manera a la rapida, ups xd)"
   ]
  },
  {
   "cell_type": "code",
   "execution_count": 147,
   "id": "c09e90b9",
   "metadata": {},
   "outputs": [
    {
     "ename": "MemoryError",
     "evalue": "Unable to allocate 3.74 GiB for an array with shape (502181274,) and data type int64",
     "output_type": "error",
     "traceback": [
      "\u001b[31m---------------------------------------------------------------------------\u001b[39m",
      "\u001b[31mMemoryError\u001b[39m                               Traceback (most recent call last)",
      "\u001b[36mCell\u001b[39m\u001b[36m \u001b[39m\u001b[32mIn[147]\u001b[39m\u001b[32m, line 9\u001b[39m\n\u001b[32m      7\u001b[39m \u001b[38;5;28;01mfor\u001b[39;00m df \u001b[38;5;129;01min\u001b[39;00m lista_de_dataframes:\n\u001b[32m      8\u001b[39m     contador += \u001b[32m1\u001b[39m\n\u001b[32m----> \u001b[39m\u001b[32m9\u001b[39m     df_resultado = \u001b[43mpd\u001b[49m\u001b[43m.\u001b[49m\u001b[43mmerge\u001b[49m\u001b[43m(\u001b[49m\u001b[43mdf_resultado\u001b[49m\u001b[43m,\u001b[49m\u001b[43m \u001b[49m\u001b[43mdf\u001b[49m\u001b[43m,\u001b[49m\u001b[43m \u001b[49m\u001b[43mon\u001b[49m\u001b[43m=\u001b[49m\u001b[33;43m'\u001b[39;49m\u001b[33;43mbgg_id\u001b[39;49m\u001b[33;43m'\u001b[39;49m\u001b[43m,\u001b[49m\u001b[43m \u001b[49m\u001b[43mhow\u001b[49m\u001b[43m=\u001b[49m\u001b[33;43m'\u001b[39;49m\u001b[33;43mleft\u001b[39;49m\u001b[33;43m'\u001b[39;49m\u001b[43m,\u001b[49m\u001b[43m \u001b[49m\u001b[43msuffixes\u001b[49m\u001b[43m=\u001b[49m\u001b[43m(\u001b[49m\u001b[33;43m'\u001b[39;49m\u001b[33;43m'\u001b[39;49m\u001b[43m,\u001b[49m\u001b[43m \u001b[49m\u001b[33;43mf\u001b[39;49m\u001b[33;43m\"\u001b[39;49m\u001b[33;43m_df\u001b[39;49m\u001b[38;5;132;43;01m{\u001b[39;49;00m\u001b[43mcontador\u001b[49m\u001b[38;5;132;43;01m}\u001b[39;49;00m\u001b[33;43m\"\u001b[39;49m\u001b[43m)\u001b[49m\u001b[43m)\u001b[49m\n",
      "\u001b[36mFile \u001b[39m\u001b[32mc:\\Users\\lchicao\\AppData\\Local\\Programs\\Python\\Python313\\Lib\\site-packages\\pandas\\core\\reshape\\merge.py:184\u001b[39m, in \u001b[36mmerge\u001b[39m\u001b[34m(left, right, how, on, left_on, right_on, left_index, right_index, sort, suffixes, copy, indicator, validate)\u001b[39m\n\u001b[32m    169\u001b[39m \u001b[38;5;28;01melse\u001b[39;00m:\n\u001b[32m    170\u001b[39m     op = _MergeOperation(\n\u001b[32m    171\u001b[39m         left_df,\n\u001b[32m    172\u001b[39m         right_df,\n\u001b[32m   (...)\u001b[39m\u001b[32m    182\u001b[39m         validate=validate,\n\u001b[32m    183\u001b[39m     )\n\u001b[32m--> \u001b[39m\u001b[32m184\u001b[39m     \u001b[38;5;28;01mreturn\u001b[39;00m \u001b[43mop\u001b[49m\u001b[43m.\u001b[49m\u001b[43mget_result\u001b[49m\u001b[43m(\u001b[49m\u001b[43mcopy\u001b[49m\u001b[43m=\u001b[49m\u001b[43mcopy\u001b[49m\u001b[43m)\u001b[49m\n",
      "\u001b[36mFile \u001b[39m\u001b[32mc:\\Users\\lchicao\\AppData\\Local\\Programs\\Python\\Python313\\Lib\\site-packages\\pandas\\core\\reshape\\merge.py:886\u001b[39m, in \u001b[36m_MergeOperation.get_result\u001b[39m\u001b[34m(self, copy)\u001b[39m\n\u001b[32m    883\u001b[39m \u001b[38;5;28;01mif\u001b[39;00m \u001b[38;5;28mself\u001b[39m.indicator:\n\u001b[32m    884\u001b[39m     \u001b[38;5;28mself\u001b[39m.left, \u001b[38;5;28mself\u001b[39m.right = \u001b[38;5;28mself\u001b[39m._indicator_pre_merge(\u001b[38;5;28mself\u001b[39m.left, \u001b[38;5;28mself\u001b[39m.right)\n\u001b[32m--> \u001b[39m\u001b[32m886\u001b[39m join_index, left_indexer, right_indexer = \u001b[38;5;28;43mself\u001b[39;49m\u001b[43m.\u001b[49m\u001b[43m_get_join_info\u001b[49m\u001b[43m(\u001b[49m\u001b[43m)\u001b[49m\n\u001b[32m    888\u001b[39m result = \u001b[38;5;28mself\u001b[39m._reindex_and_concat(\n\u001b[32m    889\u001b[39m     join_index, left_indexer, right_indexer, copy=copy\n\u001b[32m    890\u001b[39m )\n\u001b[32m    891\u001b[39m result = result.__finalize__(\u001b[38;5;28mself\u001b[39m, method=\u001b[38;5;28mself\u001b[39m._merge_type)\n",
      "\u001b[36mFile \u001b[39m\u001b[32mc:\\Users\\lchicao\\AppData\\Local\\Programs\\Python\\Python313\\Lib\\site-packages\\pandas\\core\\reshape\\merge.py:1152\u001b[39m, in \u001b[36m_MergeOperation._get_join_info\u001b[39m\u001b[34m(self)\u001b[39m\n\u001b[32m   1148\u001b[39m     join_index, right_indexer, left_indexer = _left_join_on_index(\n\u001b[32m   1149\u001b[39m         right_ax, left_ax, \u001b[38;5;28mself\u001b[39m.right_join_keys, sort=\u001b[38;5;28mself\u001b[39m.sort\n\u001b[32m   1150\u001b[39m     )\n\u001b[32m   1151\u001b[39m \u001b[38;5;28;01melse\u001b[39;00m:\n\u001b[32m-> \u001b[39m\u001b[32m1152\u001b[39m     (left_indexer, right_indexer) = \u001b[38;5;28;43mself\u001b[39;49m\u001b[43m.\u001b[49m\u001b[43m_get_join_indexers\u001b[49m\u001b[43m(\u001b[49m\u001b[43m)\u001b[49m\n\u001b[32m   1154\u001b[39m     \u001b[38;5;28;01mif\u001b[39;00m \u001b[38;5;28mself\u001b[39m.right_index:\n\u001b[32m   1155\u001b[39m         \u001b[38;5;28;01mif\u001b[39;00m \u001b[38;5;28mlen\u001b[39m(\u001b[38;5;28mself\u001b[39m.left) > \u001b[32m0\u001b[39m:\n",
      "\u001b[36mFile \u001b[39m\u001b[32mc:\\Users\\lchicao\\AppData\\Local\\Programs\\Python\\Python313\\Lib\\site-packages\\pandas\\core\\reshape\\merge.py:1126\u001b[39m, in \u001b[36m_MergeOperation._get_join_indexers\u001b[39m\u001b[34m(self)\u001b[39m\n\u001b[32m   1124\u001b[39m \u001b[38;5;66;03m# make mypy happy\u001b[39;00m\n\u001b[32m   1125\u001b[39m \u001b[38;5;28;01massert\u001b[39;00m \u001b[38;5;28mself\u001b[39m.how != \u001b[33m\"\u001b[39m\u001b[33masof\u001b[39m\u001b[33m\"\u001b[39m\n\u001b[32m-> \u001b[39m\u001b[32m1126\u001b[39m \u001b[38;5;28;01mreturn\u001b[39;00m \u001b[43mget_join_indexers\u001b[49m\u001b[43m(\u001b[49m\n\u001b[32m   1127\u001b[39m \u001b[43m    \u001b[49m\u001b[38;5;28;43mself\u001b[39;49m\u001b[43m.\u001b[49m\u001b[43mleft_join_keys\u001b[49m\u001b[43m,\u001b[49m\u001b[43m \u001b[49m\u001b[38;5;28;43mself\u001b[39;49m\u001b[43m.\u001b[49m\u001b[43mright_join_keys\u001b[49m\u001b[43m,\u001b[49m\u001b[43m \u001b[49m\u001b[43msort\u001b[49m\u001b[43m=\u001b[49m\u001b[38;5;28;43mself\u001b[39;49m\u001b[43m.\u001b[49m\u001b[43msort\u001b[49m\u001b[43m,\u001b[49m\u001b[43m \u001b[49m\u001b[43mhow\u001b[49m\u001b[43m=\u001b[49m\u001b[38;5;28;43mself\u001b[39;49m\u001b[43m.\u001b[49m\u001b[43mhow\u001b[49m\n\u001b[32m   1128\u001b[39m \u001b[43m\u001b[49m\u001b[43m)\u001b[49m\n",
      "\u001b[36mFile \u001b[39m\u001b[32mc:\\Users\\lchicao\\AppData\\Local\\Programs\\Python\\Python313\\Lib\\site-packages\\pandas\\core\\reshape\\merge.py:1760\u001b[39m, in \u001b[36mget_join_indexers\u001b[39m\u001b[34m(left_keys, right_keys, sort, how)\u001b[39m\n\u001b[32m   1758\u001b[39m     _, lidx, ridx = left.join(right, how=how, return_indexers=\u001b[38;5;28;01mTrue\u001b[39;00m, sort=sort)\n\u001b[32m   1759\u001b[39m \u001b[38;5;28;01melse\u001b[39;00m:\n\u001b[32m-> \u001b[39m\u001b[32m1760\u001b[39m     lidx, ridx = \u001b[43mget_join_indexers_non_unique\u001b[49m\u001b[43m(\u001b[49m\n\u001b[32m   1761\u001b[39m \u001b[43m        \u001b[49m\u001b[43mleft\u001b[49m\u001b[43m.\u001b[49m\u001b[43m_values\u001b[49m\u001b[43m,\u001b[49m\u001b[43m \u001b[49m\u001b[43mright\u001b[49m\u001b[43m.\u001b[49m\u001b[43m_values\u001b[49m\u001b[43m,\u001b[49m\u001b[43m \u001b[49m\u001b[43msort\u001b[49m\u001b[43m,\u001b[49m\u001b[43m \u001b[49m\u001b[43mhow\u001b[49m\n\u001b[32m   1762\u001b[39m \u001b[43m    \u001b[49m\u001b[43m)\u001b[49m\n\u001b[32m   1764\u001b[39m \u001b[38;5;28;01mif\u001b[39;00m lidx \u001b[38;5;129;01mis\u001b[39;00m \u001b[38;5;129;01mnot\u001b[39;00m \u001b[38;5;28;01mNone\u001b[39;00m \u001b[38;5;129;01mand\u001b[39;00m is_range_indexer(lidx, \u001b[38;5;28mlen\u001b[39m(left)):\n\u001b[32m   1765\u001b[39m     lidx = \u001b[38;5;28;01mNone\u001b[39;00m\n",
      "\u001b[36mFile \u001b[39m\u001b[32mc:\\Users\\lchicao\\AppData\\Local\\Programs\\Python\\Python313\\Lib\\site-packages\\pandas\\core\\reshape\\merge.py:1796\u001b[39m, in \u001b[36mget_join_indexers_non_unique\u001b[39m\u001b[34m(left, right, sort, how)\u001b[39m\n\u001b[32m   1794\u001b[39m lkey, rkey, count = _factorize_keys(left, right, sort=sort)\n\u001b[32m   1795\u001b[39m \u001b[38;5;28;01mif\u001b[39;00m how == \u001b[33m\"\u001b[39m\u001b[33mleft\u001b[39m\u001b[33m\"\u001b[39m:\n\u001b[32m-> \u001b[39m\u001b[32m1796\u001b[39m     lidx, ridx = \u001b[43mlibjoin\u001b[49m\u001b[43m.\u001b[49m\u001b[43mleft_outer_join\u001b[49m\u001b[43m(\u001b[49m\u001b[43mlkey\u001b[49m\u001b[43m,\u001b[49m\u001b[43m \u001b[49m\u001b[43mrkey\u001b[49m\u001b[43m,\u001b[49m\u001b[43m \u001b[49m\u001b[43mcount\u001b[49m\u001b[43m,\u001b[49m\u001b[43m \u001b[49m\u001b[43msort\u001b[49m\u001b[43m=\u001b[49m\u001b[43msort\u001b[49m\u001b[43m)\u001b[49m\n\u001b[32m   1797\u001b[39m \u001b[38;5;28;01melif\u001b[39;00m how == \u001b[33m\"\u001b[39m\u001b[33mright\u001b[39m\u001b[33m\"\u001b[39m:\n\u001b[32m   1798\u001b[39m     ridx, lidx = libjoin.left_outer_join(rkey, lkey, count, sort=sort)\n",
      "\u001b[36mFile \u001b[39m\u001b[32mpandas/_libs/join.pyx:156\u001b[39m, in \u001b[36mpandas._libs.join.left_outer_join\u001b[39m\u001b[34m()\u001b[39m\n",
      "\u001b[31mMemoryError\u001b[39m: Unable to allocate 3.74 GiB for an array with shape (502181274,) and data type int64"
     ]
    }
   ],
   "source": [
    "#lista_de_dataframes es la lista donde estan presentes los df\n",
    "# df_uwuwuwuwu es el unico que no esta en la lista pq lo tomamos como el primero\n",
    "# hago un copy para no modificarlo directamente\n",
    "df_resultado = df_uwuwuwuwu.copy()  \n",
    "\n",
    "contador = 0\n",
    "for df in lista_de_dataframes:\n",
    "    contador += 1\n",
    "    df_resultado = pd.merge(df_resultado, df, on='bgg_id', how='left', suffixes=('', f\"_df{contador}\"))\n",
    "\n"
   ]
  },
  {
   "cell_type": "code",
   "execution_count": 133,
   "id": "78fa761f",
   "metadata": {},
   "outputs": [
    {
     "name": "stdout",
     "output_type": "stream",
     "text": [
      "39\n"
     ]
    }
   ],
   "source": [
    "contador = 0\n",
    "for i in resultado.columns:\n",
    "    contador+=1 \n",
    "print(contador)\n"
   ]
  },
  {
   "cell_type": "markdown",
   "id": "dec5cbbb",
   "metadata": {},
   "source": [
    "**b) (0.2 pts)** ¿Cuánto espacio en disco ocupa este DataFrame? ¿Cuánto espacio en disco ocupan los documentos CSV separados? ¿A qué se debe esta diferencia? Comente.\n",
    "\n"
   ]
  },
  {
   "cell_type": "code",
   "execution_count": 34,
   "id": "616716ba",
   "metadata": {},
   "outputs": [
    {
     "name": "stdout",
     "output_type": "stream",
     "text": [
      " Volume in drive C has no label.\n",
      " Volume Serial Number is 9E56-4120\n",
      "\n",
      " Directory of c:\\GIT HUB DESKO\\IMT2200-Lucas-Chicao\\Tareas\\Tarea 1\\data\\kagglehub\\datasets\\mshepherd\\board-games\\versions\\13\n",
      "\n",
      "08/15/2025  04:25 PM    <DIR>          .\n",
      "08/15/2025  04:25 PM    <DIR>          ..\n",
      "08/15/2025  04:24 PM        18,733,436 bga_GameItem.csv\n",
      "08/15/2025  04:24 PM             1,532 bgg_Category.csv\n",
      "08/15/2025  04:24 PM           169,033 bgg_GameFamily.csv\n",
      "08/15/2025  04:24 PM        16,076,821 bgg_GameItem.csv\n",
      "08/15/2025  04:24 PM               218 bgg_GameType.csv\n",
      "08/15/2025  04:24 PM             4,427 bgg_Mechanic.csv\n",
      "08/15/2025  04:24 PM         1,161,855 bgg_Person.csv\n",
      "08/15/2025  04:24 PM           596,420 bgg_Publisher.csv\n",
      "08/15/2025  04:24 PM           586,441 dbpedia_GameItem.csv\n",
      "08/15/2025  04:24 PM         3,452,968 luding_GameItem.csv\n",
      "08/15/2025  04:24 PM           801,632 spielen_GameItem.csv\n",
      "08/15/2025  04:24 PM           542,338 wikidata_GameItem.csv\n",
      "              12 File(s)     42,127,121 bytes\n",
      "               2 Dir(s)  18,739,494,912 bytes free\n"
     ]
    }
   ],
   "source": [
    "%ls"
   ]
  },
  {
   "cell_type": "markdown",
   "id": "b8c7bec6",
   "metadata": {},
   "source": [
    "### 3.2 Juegos publicados anualmente (1.5 puntos)\n",
    "\n",
    "\n",
    "**a) (0.5 pts)** Limpie los datos para dejar solo aquellos que tienen valores válidos de año de publicación. Luego responda: ¿cuál es el rango de años con el que estamos trabajando? ¿Tienen sentido estos años?\n"
   ]
  },
  {
   "cell_type": "code",
   "execution_count": null,
   "id": "a8c60679",
   "metadata": {},
   "outputs": [],
   "source": []
  },
  {
   "cell_type": "markdown",
   "id": "7b8d452e",
   "metadata": {},
   "source": [
    "**b) (0.5 pts)** Seleccione solamente los juegos entre los años 1980 y 2025. Luego grafique la cantidad de juegos publicados por año. ¿Cómo es esta tendencia? Comente."
   ]
  },
  {
   "cell_type": "code",
   "execution_count": null,
   "id": "f073e58e",
   "metadata": {},
   "outputs": [],
   "source": []
  },
  {
   "cell_type": "markdown",
   "id": "047c1e61",
   "metadata": {},
   "source": [
    "**c) (0.5 pts)** ¿Entre qué años hubo un mayor aumento de publicación de juegos de mesa según los registros de BGG?"
   ]
  },
  {
   "cell_type": "code",
   "execution_count": null,
   "id": "e09fa10b",
   "metadata": {},
   "outputs": [],
   "source": []
  },
  {
   "cell_type": "markdown",
   "id": "6c22b65f",
   "metadata": {},
   "source": [
    "### 3.3 Análisis de duración y complejidad (1.5 puntos)\n",
    "\n",
    "Si bien hay muchas posibles características que podemos explorar para los juegos de mesa, esta vez nos centraremos en el tiempo de juego y la complejidad. En esta sección queremos comprender si se ha modificado notablemente la duración promedio y la percepción de complejidad de los juegos de mesa a través de los años."
   ]
  },
  {
   "cell_type": "markdown",
   "id": "e6f0c875",
   "metadata": {},
   "source": [
    "**a) (0.3 pts)** Inspecciones y filtre los datos que tengan valores válidos para: tiempo mínimo de juego, tiempo máximo de juego y complejidad. En el caso de que existan \"outliers\", puede descartarlos, cosiderando un rango razonable para las variables anteriores. Justifique su desición."
   ]
  },
  {
   "cell_type": "code",
   "execution_count": null,
   "id": "0e87bbc2",
   "metadata": {},
   "outputs": [],
   "source": []
  },
  {
   "cell_type": "markdown",
   "id": "848e2dee",
   "metadata": {},
   "source": [
    "**b) (0.2 pts)** Veremos ahora si ha cambiado la duración promedio de los juegos de mesa en nuestro rango de años seleccionado. Primero, cree una nueva columna `avg_time` en el dataset con la duración promedio supuesta para cada juego."
   ]
  },
  {
   "cell_type": "code",
   "execution_count": null,
   "id": "204778d8",
   "metadata": {},
   "outputs": [],
   "source": []
  },
  {
   "cell_type": "markdown",
   "id": "89df6ae6",
   "metadata": {},
   "source": [
    "**c) (0.5 pts)** Grafique la duración promedio de juegos al año entre 1980 y 2025. ¿Existe alguna tendencia? Asegúrese de colocar las unidades correspondientes en sus ejes si es necesario. Comente sus resultados."
   ]
  },
  {
   "cell_type": "code",
   "execution_count": null,
   "id": "765da813",
   "metadata": {},
   "outputs": [],
   "source": []
  },
  {
   "cell_type": "markdown",
   "id": "a5847905",
   "metadata": {},
   "source": [
    "**d) (0.5 pts)** Nos interesa saber si los juegos de mesa recientes son más complejos que aquellos publicados antes de los 2000. BoardGameGeek permite evaluar la complejidad (o \"weight\") de un juego en una escala de 1 a 5, siendo 1 un juego \"liviano\" o fácil de entender, y 5 un juego \"pesado\" o complejo. Primero, seleccione los juegos que han sido evaluados por al menos 100 usuarios. Luego grafique la complejidad promedio de los juegos según año. Responda: ¿ha cambiado la percepción de complejidad entre juegos entre 1980 y la actualidad?"
   ]
  },
  {
   "cell_type": "code",
   "execution_count": null,
   "id": "776553e6",
   "metadata": {},
   "outputs": [],
   "source": []
  },
  {
   "cell_type": "markdown",
   "id": "9a241f39",
   "metadata": {},
   "source": [
    "### 3.4 Análisis de categorías comunes (2 puntos)\n",
    "\n",
    "Existe una gran diversidad de categorías de juegos de mesa. Ahora nos concentraremos en un grupo específico de ellas, con el fin de analizar cómo a cambiado la cantidad de juegos de estas clases desde 1980 hasta hoy.\n",
    "\n",
    "**a) (0.7 pts)** ¿Cuáles son las 5 categorías más comunes en los juegos del dataset? Muestre la cantidad de juegos que hay de cada una. Puede graficar estos valores, o bien, entregar un DataFrame con sus valores."
   ]
  },
  {
   "cell_type": "code",
   "execution_count": null,
   "id": "13730de1",
   "metadata": {},
   "outputs": [],
   "source": []
  },
  {
   "cell_type": "markdown",
   "id": "d9aa153e",
   "metadata": {},
   "source": [
    "**b) (0.3 pts)** Para cada una de estas 5 categorías, cree un DataFrame que contenga la cantidad de juegos en el dataset según año. Luego junte estos DataFrames en uno solo con los atributos de \"Año\", \"Categoría\" y \"Cantidad\"."
   ]
  },
  {
   "cell_type": "code",
   "execution_count": null,
   "id": "325d450d",
   "metadata": {},
   "outputs": [],
   "source": []
  },
  {
   "cell_type": "markdown",
   "id": "d299aa4c",
   "metadata": {},
   "source": [
    "**c) (1 pto)** Grafique, en un solo gráfico y con distintos colores, la cantidad de juegos por año según categoría. Preocúpese de ponerle etiquetas al gráfico para identificar cada categoría y una leyenda donde se muestre cada una. Comente: ¿ha habido un cambio entre los juegos más comunes en los años 80 y hoy?\n"
   ]
  },
  {
   "cell_type": "code",
   "execution_count": null,
   "id": "7ad14cda",
   "metadata": {},
   "outputs": [],
   "source": []
  },
  {
   "cell_type": "markdown",
   "id": "9db1ea34-4030-4b3a-8853-4ef75f894298",
   "metadata": {},
   "source": [
    "### 3.5 Análisis Crítico (Bono +0.5 puntos)\n",
    "\n",
    "¿Qué limitaciones o problemas encontraste en los datos?"
   ]
  },
  {
   "cell_type": "code",
   "execution_count": null,
   "id": "cdbb98fe-7278-48ee-af95-05801244c50d",
   "metadata": {},
   "outputs": [],
   "source": []
  }
 ],
 "metadata": {
  "kernelspec": {
   "display_name": "Python 3",
   "language": "python",
   "name": "python3"
  },
  "language_info": {
   "codemirror_mode": {
    "name": "ipython",
    "version": 3
   },
   "file_extension": ".py",
   "mimetype": "text/x-python",
   "name": "python",
   "nbconvert_exporter": "python",
   "pygments_lexer": "ipython3",
   "version": "3.13.7"
  }
 },
 "nbformat": 4,
 "nbformat_minor": 5
}
